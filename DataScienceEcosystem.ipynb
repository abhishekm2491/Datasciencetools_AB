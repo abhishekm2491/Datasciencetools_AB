{
 "cells": [
  {
   "cell_type": "markdown",
   "id": "9db7d2da-32cb-4e05-b7cd-0b1712022a7b",
   "metadata": {},
   "source": [
    "\n",
    "# Data Science Tools and Ecosystem"
   ]
  },
  {
   "cell_type": "markdown",
   "id": "b4f8cd05-2254-42a2-9494-49d5b6f4e81b",
   "metadata": {},
   "source": [
    "In this notebook, Data Science Tools and Ecosystem are summarized."
   ]
  },
  {
   "cell_type": "markdown",
   "id": "4727cc9c-6f2f-4590-a73e-cda7af8cd42d",
   "metadata": {},
   "source": [
    "***Objectives:***\n",
    "* List of popular languages for Data Science\n",
    "* List of commonly used libraries for Data Science\n",
    "* Data Science Tools"
   ]
  },
  {
   "cell_type": "markdown",
   "id": "3460a7af-631b-4431-a57f-3102665c252b",
   "metadata": {},
   "source": [
    "1. SQL\n",
    "2. PYTHON\n",
    "3. R"
   ]
  },
  {
   "cell_type": "markdown",
   "id": "7ba88d0a-367e-47f6-af07-3867351e9f1c",
   "metadata": {},
   "source": [
    "1. KERAS\n",
    "2. PYTORCH\n",
    "3. SCIKIT"
   ]
  },
  {
   "cell_type": "markdown",
   "id": "2e2b61b1-e04f-4371-b83c-589603633b96",
   "metadata": {},
   "source": [
    "|Data Science Tools|\n",
    "| ------|\n",
    "|JUPYTER|\n",
    "|RSTUDIO|\n",
    "|SPYDER|\n"
   ]
  },
  {
   "cell_type": "markdown",
   "id": "c6d226be-cf69-4cec-8f73-4a51515d40c6",
   "metadata": {},
   "source": [
    "### Below are a few examples of evaluating arithmetic expressions in Python"
   ]
  },
  {
   "cell_type": "code",
   "execution_count": 3,
   "id": "9d97f554-b0d2-4d1c-a384-ca93776cad80",
   "metadata": {
    "tags": []
   },
   "outputs": [
    {
     "data": {
      "text/plain": [
       "17"
      ]
     },
     "execution_count": 3,
     "metadata": {},
     "output_type": "execute_result"
    }
   ],
   "source": [
    "(3*4)+5 #This a simple arithmetic expression to mutiply then add integers"
   ]
  },
  {
   "cell_type": "code",
   "execution_count": 5,
   "id": "f4e1d83c-8d4e-4b7b-af79-843f06534f35",
   "metadata": {
    "tags": []
   },
   "outputs": [
    {
     "data": {
      "text/plain": [
       "3.3333333333333335"
      ]
     },
     "execution_count": 5,
     "metadata": {},
     "output_type": "execute_result"
    }
   ],
   "source": [
    "200/60 #this will convert 200 minutes to hours by diving by 60"
   ]
  },
  {
   "cell_type": "markdown",
   "id": "9bf888dd-aaa2-4a96-8947-4f190b2bc674",
   "metadata": {},
   "source": [
    "## Author\n",
    "Abhishek Mukherjee"
   ]
  },
  {
   "cell_type": "markdown",
   "id": "f0ccd6e9-3bd4-41f5-9fe2-356efff50759",
   "metadata": {},
   "source": []
  }
 ],
 "metadata": {
  "kernelspec": {
   "display_name": "Python",
   "language": "python",
   "name": "conda-env-python-py"
  },
  "language_info": {
   "codemirror_mode": {
    "name": "ipython",
    "version": 3
   },
   "file_extension": ".py",
   "mimetype": "text/x-python",
   "name": "python",
   "nbconvert_exporter": "python",
   "pygments_lexer": "ipython3",
   "version": "3.7.12"
  }
 },
 "nbformat": 4,
 "nbformat_minor": 5
}
